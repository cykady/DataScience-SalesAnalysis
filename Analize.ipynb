{
 "cells": [
  {
   "cell_type": "code",
   "execution_count": 157,
   "id": "ddc6325e",
   "metadata": {},
   "outputs": [
    {
     "data": {
      "text/html": [
       "        <script type=\"text/javascript\">\n",
       "        window.PlotlyConfig = {MathJaxConfig: 'local'};\n",
       "        if (window.MathJax && window.MathJax.Hub && window.MathJax.Hub.Config) {window.MathJax.Hub.Config({SVG: {font: \"STIX-Web\"}});}\n",
       "        if (typeof require !== 'undefined') {\n",
       "        require.undef(\"plotly\");\n",
       "        requirejs.config({\n",
       "            paths: {\n",
       "                'plotly': ['https://cdn.plot.ly/plotly-2.24.1.min']\n",
       "            }\n",
       "        });\n",
       "        require(['plotly'], function(Plotly) {\n",
       "            window._Plotly = Plotly;\n",
       "        });\n",
       "        }\n",
       "        </script>\n",
       "        "
      ]
     },
     "metadata": {},
     "output_type": "display_data"
    }
   ],
   "source": [
    "import pandas as pd\n",
    "import numpy as np\n",
    "import seaborn as sns\n",
    "import matplotlib.pyplot as plt\n",
    "import cufflinks as cf\n",
    "cf.go_offline()"
   ]
  },
  {
   "attachments": {},
   "cell_type": "markdown",
   "id": "8a9e1587",
   "metadata": {},
   "source": [
    "### Prepere data"
   ]
  },
  {
   "cell_type": "code",
   "execution_count": 158,
   "id": "7b906eb1",
   "metadata": {},
   "outputs": [],
   "source": [
    "df0=pd.read_csv('Sales_April_2019.csv')\n",
    "df1=pd.read_csv('Sales_August_2019.csv')\n",
    "pd2=pd.read_csv('Sales_December_2019.csv')\n",
    "pd3=pd.read_csv('Sales_February_2019.csv')\n",
    "pd4=pd.read_csv('Sales_January_2019.csv')\n",
    "pd5=pd.read_csv('Sales_July_2019.csv')\n",
    "pd6=pd.read_csv('Sales_June_2019.csv')\n",
    "pd7=pd.read_csv('Sales_March_2019.csv')\n",
    "pd8=pd.read_csv('Sales_May_2019.csv')\n",
    "pd9=pd.read_csv('Sales_November_2019.csv')\n",
    "pd10=pd.read_csv('Sales_October_2019.csv')\n",
    "pd11=pd.read_csv('Sales_September_2019.csv')"
   ]
  },
  {
   "cell_type": "code",
   "execution_count": 159,
   "id": "4bc715d9",
   "metadata": {},
   "outputs": [],
   "source": [
    "df = pd.concat([df0, df1, pd2, pd3,pd4,pd5,pd6,pd7,pd8,pd9,pd10,pd11], ignore_index=True)"
   ]
  },
  {
   "cell_type": "code",
   "execution_count": 160,
   "id": "f2334b0a",
   "metadata": {},
   "outputs": [],
   "source": [
    "# Clean data"
   ]
  },
  {
   "cell_type": "code",
   "execution_count": 161,
   "id": "df337209",
   "metadata": {},
   "outputs": [
    {
     "name": "stdout",
     "output_type": "stream",
     "text": [
      "<class 'pandas.core.frame.DataFrame'>\n",
      "RangeIndex: 186850 entries, 0 to 186849\n",
      "Data columns (total 6 columns):\n",
      " #   Column            Non-Null Count   Dtype \n",
      "---  ------            --------------   ----- \n",
      " 0   Order ID          186305 non-null  object\n",
      " 1   Product           186305 non-null  object\n",
      " 2   Quantity Ordered  186305 non-null  object\n",
      " 3   Price Each        186305 non-null  object\n",
      " 4   Order Date        186305 non-null  object\n",
      " 5   Purchase Address  186305 non-null  object\n",
      "dtypes: object(6)\n",
      "memory usage: 8.6+ MB\n"
     ]
    }
   ],
   "source": [
    "df.info()"
   ]
  },
  {
   "cell_type": "code",
   "execution_count": 162,
   "id": "4fb89104",
   "metadata": {},
   "outputs": [
    {
     "data": {
      "text/plain": [
       "Order ID            545\n",
       "Product             545\n",
       "Quantity Ordered    545\n",
       "Price Each          545\n",
       "Order Date          545\n",
       "Purchase Address    545\n",
       "dtype: int64"
      ]
     },
     "execution_count": 162,
     "metadata": {},
     "output_type": "execute_result"
    }
   ],
   "source": [
    "df.isnull().sum()"
   ]
  },
  {
   "cell_type": "code",
   "execution_count": 163,
   "id": "9d4dbb7d",
   "metadata": {},
   "outputs": [],
   "source": [
    "df.dropna(inplace=True)"
   ]
  },
  {
   "cell_type": "code",
   "execution_count": 164,
   "id": "e4e48bb9",
   "metadata": {},
   "outputs": [],
   "source": [
    "drop = df[df['Order Date'] == 'Order Date'].index\n",
    "df.drop(drop,axis=0 ,inplace=True)"
   ]
  },
  {
   "cell_type": "code",
   "execution_count": 165,
   "id": "463f0d0e",
   "metadata": {},
   "outputs": [
    {
     "data": {
      "text/html": [
       "<div>\n",
       "<style scoped>\n",
       "    .dataframe tbody tr th:only-of-type {\n",
       "        vertical-align: middle;\n",
       "    }\n",
       "\n",
       "    .dataframe tbody tr th {\n",
       "        vertical-align: top;\n",
       "    }\n",
       "\n",
       "    .dataframe thead th {\n",
       "        text-align: right;\n",
       "    }\n",
       "</style>\n",
       "<table border=\"1\" class=\"dataframe\">\n",
       "  <thead>\n",
       "    <tr style=\"text-align: right;\">\n",
       "      <th></th>\n",
       "      <th>Order ID</th>\n",
       "      <th>Product</th>\n",
       "      <th>Quantity Ordered</th>\n",
       "      <th>Price Each</th>\n",
       "      <th>Order Date</th>\n",
       "      <th>Purchase Address</th>\n",
       "    </tr>\n",
       "  </thead>\n",
       "  <tbody>\n",
       "    <tr>\n",
       "      <th>516</th>\n",
       "      <td>177052</td>\n",
       "      <td>USB-C Charging Cable</td>\n",
       "      <td>2</td>\n",
       "      <td>11.95</td>\n",
       "      <td>04/02/19 09:30</td>\n",
       "      <td>532 Walnut St, San Francisco, CA 94016</td>\n",
       "    </tr>\n",
       "    <tr>\n",
       "      <th>517</th>\n",
       "      <td>177053</td>\n",
       "      <td>Wired Headphones</td>\n",
       "      <td>1</td>\n",
       "      <td>11.99</td>\n",
       "      <td>04/24/19 20:45</td>\n",
       "      <td>5 Adams St, Boston, MA 02215</td>\n",
       "    </tr>\n",
       "    <tr>\n",
       "      <th>518</th>\n",
       "      <td>177054</td>\n",
       "      <td>Apple Airpods Headphones</td>\n",
       "      <td>1</td>\n",
       "      <td>150</td>\n",
       "      <td>04/09/19 19:18</td>\n",
       "      <td>800 Jackson St, Atlanta, GA 30301</td>\n",
       "    </tr>\n",
       "  </tbody>\n",
       "</table>\n",
       "</div>"
      ],
      "text/plain": [
       "    Order ID                   Product Quantity Ordered Price Each   \n",
       "516   177052      USB-C Charging Cable                2      11.95  \\\n",
       "517   177053          Wired Headphones                1      11.99   \n",
       "518   177054  Apple Airpods Headphones                1        150   \n",
       "\n",
       "         Order Date                        Purchase Address  \n",
       "516  04/02/19 09:30  532 Walnut St, San Francisco, CA 94016  \n",
       "517  04/24/19 20:45            5 Adams St, Boston, MA 02215  \n",
       "518  04/09/19 19:18       800 Jackson St, Atlanta, GA 30301  "
      ]
     },
     "execution_count": 165,
     "metadata": {},
     "output_type": "execute_result"
    }
   ],
   "source": [
    "df.loc[516:519]\n"
   ]
  },
  {
   "cell_type": "code",
   "execution_count": 166,
   "id": "a6aadfd3",
   "metadata": {},
   "outputs": [
    {
     "name": "stderr",
     "output_type": "stream",
     "text": [
      "C:\\Users\\cykad\\AppData\\Local\\Temp\\ipykernel_15788\\3163393989.py:1: UserWarning:\n",
      "\n",
      "Could not infer format, so each element will be parsed individually, falling back to `dateutil`. To ensure parsing is consistent and as-expected, please specify a format.\n",
      "\n"
     ]
    }
   ],
   "source": [
    "df['Order Date']= pd.to_datetime(df['Order Date'])"
   ]
  },
  {
   "cell_type": "code",
   "execution_count": 167,
   "id": "39189cbc",
   "metadata": {},
   "outputs": [],
   "source": [
    "df['Month']=df['Order Date'].apply(lambda x : x.month)"
   ]
  },
  {
   "cell_type": "code",
   "execution_count": 168,
   "id": "1a9812ca",
   "metadata": {},
   "outputs": [],
   "source": [
    "df['Quantity Ordered'] = pd.to_numeric(df['Quantity Ordered'])"
   ]
  },
  {
   "cell_type": "code",
   "execution_count": 169,
   "id": "3e6a7c88",
   "metadata": {},
   "outputs": [],
   "source": [
    "df['Price Each'] = pd.to_numeric(df['Price Each'])"
   ]
  },
  {
   "cell_type": "code",
   "execution_count": 170,
   "id": "093e66dc",
   "metadata": {},
   "outputs": [],
   "source": [
    "df['Total']=df['Quantity Ordered']*df['Price Each']"
   ]
  },
  {
   "cell_type": "code",
   "execution_count": 171,
   "id": "e5419981",
   "metadata": {},
   "outputs": [],
   "source": [
    "df['Month']=df['Month'].astype('int32')"
   ]
  },
  {
   "attachments": {},
   "cell_type": "markdown",
   "id": "77d7eaa1",
   "metadata": {},
   "source": [
    "### Compare by time"
   ]
  },
  {
   "cell_type": "code",
   "execution_count": 172,
   "id": "6603f68a",
   "metadata": {},
   "outputs": [
    {
     "data": {
      "image/png": "[encoded data removed]",
      "text/plain": [
       "<Figure size 1000x500 with 1 Axes>"
      ]
     },
     "metadata": {},
     "output_type": "display_data"
    }
   ],
   "source": [
    "df.groupby('Month')['Total'].sum().plot(kind='bar',figsize=(10,5), title='Total Sales by Month');"
   ]
  },
  {
   "cell_type": "code",
   "execution_count": 173,
   "id": "94667e9f",
   "metadata": {},
   "outputs": [],
   "source": [
    "df['Hour'] = df['Order Date'].apply(lambda x : x.hour)"
   ]
  },
  {
   "cell_type": "code",
   "execution_count": 174,
   "id": "1bb63425",
   "metadata": {},
   "outputs": [
    {
     "data": {
      "image/png": "[encoded data removed]",
      "text/plain": [
       "<Figure size 1000x500 with 1 Axes>"
      ]
     },
     "metadata": {},
     "output_type": "display_data"
    }
   ],
   "source": [
    "df.groupby('Hour')['Total'].sum().plot(kind='bar',figsize=(10,5), title='Total Sales by Hour');"
   ]
  },
  {
   "attachments": {},
   "cell_type": "markdown",
   "id": "9fdee5e5",
   "metadata": {},
   "source": [
    "### Compare by Place"
   ]
  },
  {
   "cell_type": "code",
   "execution_count": 175,
   "id": "fb30b3f4",
   "metadata": {},
   "outputs": [],
   "source": [
    "df['City'] = df['Purchase Address'].apply(lambda x : x.split(',')[1])"
   ]
  },
  {
   "cell_type": "code",
   "execution_count": 176,
   "id": "61d9b8dd",
   "metadata": {},
   "outputs": [],
   "source": [
    "df['State'] = df['Purchase Address'].apply(lambda x : x.split(',')[2][:3])"
   ]
  },
  {
   "cell_type": "code",
   "execution_count": 177,
   "id": "b8eb1fc8",
   "metadata": {},
   "outputs": [
    {
     "data": {
      "image/png": "[encoded data removed]",
      "text/plain": [
       "<Figure size 1000x500 with 1 Axes>"
      ]
     },
     "metadata": {},
     "output_type": "display_data"
    }
   ],
   "source": [
    "ax = df.groupby(df['State'])['Total'].sum().plot(kind='bar',figsize=(10,5), title='Total Sales by State',ylabel='Total Sales in USD');"
   ]
  },
  {
   "cell_type": "code",
   "execution_count": 178,
   "id": "72c17dee",
   "metadata": {},
   "outputs": [
    {
     "data": {
      "image/png": "[encoded data removed]",
      "text/plain": [
       "<Figure size 1000x500 with 1 Axes>"
      ]
     },
     "metadata": {},
     "output_type": "display_data"
    }
   ],
   "source": [
    "ax = df.groupby('City')['Total'].sum().plot(kind='bar',figsize=(10,5), title='Total Sales by City',ylabel='Total Sales in USD');"
   ]
  },
  {
   "attachments": {},
   "cell_type": "markdown",
   "id": "f116534b",
   "metadata": {},
   "source": [
    "### Products Comparison"
   ]
  },
  {
   "cell_type": "code",
   "execution_count": 179,
   "id": "fa3d5b65",
   "metadata": {},
   "outputs": [],
   "source": [
    "dff = df[df['Order ID'].duplicated(keep=False)]"
   ]
  },
  {
   "cell_type": "code",
   "execution_count": 180,
   "id": "33231203",
   "metadata": {},
   "outputs": [
    {
     "data": {
      "image/png": "[encoded data removed]",
      "text/plain": [
       "<Figure size 1200x500 with 1 Axes>"
      ]
     },
     "metadata": {},
     "output_type": "display_data"
    }
   ],
   "source": [
    "df.loc[:, ['Quantity Ordered', 'Product']].groupby('Product').sum().plot(kind='bar',figsize=(12,5),fontsize=15, title='Quantity Ordered by Product',ylabel='Quantity Ordered');"
   ]
  },
  {
   "cell_type": "code",
   "execution_count": 181,
   "id": "c9f6c565",
   "metadata": {},
   "outputs": [],
   "source": [
    "product_df = df.loc[:, ['Quantity Ordered','Price Each', 'Product']].groupby('Product').sum()"
   ]
  },
  {
   "cell_type": "code",
   "execution_count": 182,
   "id": "9161618d",
   "metadata": {},
   "outputs": [],
   "source": [
    "product_df['Avg Price'] = product_df['Price Each']/product_df['Quantity Ordered']"
   ]
  },
  {
   "cell_type": "code",
   "execution_count": 183,
   "id": "46634d3d",
   "metadata": {},
   "outputs": [
    {
     "data": {
      "image/png": "[encoded data removed]",
      "text/plain": [
       "<Figure size 1200x500 with 1 Axes>"
      ]
     },
     "metadata": {},
     "output_type": "display_data"
    }
   ],
   "source": [
    "product_df['Avg Price'].plot(kind='bar',figsize=(12,5),fontsize=15, title='Average Price by Product',ylabel='Average Price');"
   ]
  },
  {
   "cell_type": "code",
   "execution_count": 185,
   "id": "5102f8ad",
   "metadata": {},
   "outputs": [
    {
     "data": {
      "text/html": [
       "<div>\n",
       "<style scoped>\n",
       "    .dataframe tbody tr th:only-of-type {\n",
       "        vertical-align: middle;\n",
       "    }\n",
       "\n",
       "    .dataframe tbody tr th {\n",
       "        vertical-align: top;\n",
       "    }\n",
       "\n",
       "    .dataframe thead th {\n",
       "        text-align: right;\n",
       "    }\n",
       "</style>\n",
       "<table border=\"1\" class=\"dataframe\">\n",
       "  <thead>\n",
       "    <tr style=\"text-align: right;\">\n",
       "      <th>Product</th>\n",
       "      <th>20in Monitor</th>\n",
       "      <th>27in 4K Gaming Monitor</th>\n",
       "      <th>27in FHD Monitor</th>\n",
       "      <th>34in Ultrawide Monitor</th>\n",
       "      <th>AA Batteries (4-pack)</th>\n",
       "      <th>AAA Batteries (4-pack)</th>\n",
       "      <th>Apple Airpods Headphones</th>\n",
       "      <th>Bose SoundSport Headphones</th>\n",
       "      <th>Flatscreen TV</th>\n",
       "      <th>Google Phone</th>\n",
       "      <th>LG Dryer</th>\n",
       "      <th>LG Washing Machine</th>\n",
       "      <th>Lightning Charging Cable</th>\n",
       "      <th>Macbook Pro Laptop</th>\n",
       "      <th>ThinkPad Laptop</th>\n",
       "      <th>USB-C Charging Cable</th>\n",
       "      <th>Vareebadd Phone</th>\n",
       "      <th>Wired Headphones</th>\n",
       "      <th>iPhone</th>\n",
       "    </tr>\n",
       "    <tr>\n",
       "      <th>Order ID</th>\n",
       "      <th></th>\n",
       "      <th></th>\n",
       "      <th></th>\n",
       "      <th></th>\n",
       "      <th></th>\n",
       "      <th></th>\n",
       "      <th></th>\n",
       "      <th></th>\n",
       "      <th></th>\n",
       "      <th></th>\n",
       "      <th></th>\n",
       "      <th></th>\n",
       "      <th></th>\n",
       "      <th></th>\n",
       "      <th></th>\n",
       "      <th></th>\n",
       "      <th></th>\n",
       "      <th></th>\n",
       "      <th></th>\n",
       "    </tr>\n",
       "  </thead>\n",
       "  <tbody>\n",
       "    <tr>\n",
       "      <th>141275</th>\n",
       "      <td>0</td>\n",
       "      <td>0</td>\n",
       "      <td>0</td>\n",
       "      <td>0</td>\n",
       "      <td>0</td>\n",
       "      <td>0</td>\n",
       "      <td>0</td>\n",
       "      <td>0</td>\n",
       "      <td>0</td>\n",
       "      <td>0</td>\n",
       "      <td>0</td>\n",
       "      <td>0</td>\n",
       "      <td>0</td>\n",
       "      <td>0</td>\n",
       "      <td>0</td>\n",
       "      <td>1</td>\n",
       "      <td>0</td>\n",
       "      <td>1</td>\n",
       "      <td>0</td>\n",
       "    </tr>\n",
       "    <tr>\n",
       "      <th>141290</th>\n",
       "      <td>0</td>\n",
       "      <td>0</td>\n",
       "      <td>0</td>\n",
       "      <td>0</td>\n",
       "      <td>1</td>\n",
       "      <td>0</td>\n",
       "      <td>1</td>\n",
       "      <td>0</td>\n",
       "      <td>0</td>\n",
       "      <td>0</td>\n",
       "      <td>0</td>\n",
       "      <td>0</td>\n",
       "      <td>0</td>\n",
       "      <td>0</td>\n",
       "      <td>0</td>\n",
       "      <td>0</td>\n",
       "      <td>0</td>\n",
       "      <td>0</td>\n",
       "      <td>0</td>\n",
       "    </tr>\n",
       "    <tr>\n",
       "      <th>141365</th>\n",
       "      <td>0</td>\n",
       "      <td>0</td>\n",
       "      <td>0</td>\n",
       "      <td>0</td>\n",
       "      <td>0</td>\n",
       "      <td>0</td>\n",
       "      <td>0</td>\n",
       "      <td>0</td>\n",
       "      <td>0</td>\n",
       "      <td>0</td>\n",
       "      <td>0</td>\n",
       "      <td>0</td>\n",
       "      <td>0</td>\n",
       "      <td>0</td>\n",
       "      <td>0</td>\n",
       "      <td>0</td>\n",
       "      <td>1</td>\n",
       "      <td>1</td>\n",
       "      <td>0</td>\n",
       "    </tr>\n",
       "    <tr>\n",
       "      <th>141384</th>\n",
       "      <td>0</td>\n",
       "      <td>0</td>\n",
       "      <td>0</td>\n",
       "      <td>0</td>\n",
       "      <td>0</td>\n",
       "      <td>0</td>\n",
       "      <td>0</td>\n",
       "      <td>0</td>\n",
       "      <td>0</td>\n",
       "      <td>1</td>\n",
       "      <td>0</td>\n",
       "      <td>0</td>\n",
       "      <td>0</td>\n",
       "      <td>0</td>\n",
       "      <td>0</td>\n",
       "      <td>1</td>\n",
       "      <td>0</td>\n",
       "      <td>0</td>\n",
       "      <td>0</td>\n",
       "    </tr>\n",
       "    <tr>\n",
       "      <th>141450</th>\n",
       "      <td>0</td>\n",
       "      <td>0</td>\n",
       "      <td>0</td>\n",
       "      <td>0</td>\n",
       "      <td>0</td>\n",
       "      <td>0</td>\n",
       "      <td>0</td>\n",
       "      <td>1</td>\n",
       "      <td>0</td>\n",
       "      <td>1</td>\n",
       "      <td>0</td>\n",
       "      <td>0</td>\n",
       "      <td>0</td>\n",
       "      <td>0</td>\n",
       "      <td>0</td>\n",
       "      <td>0</td>\n",
       "      <td>0</td>\n",
       "      <td>0</td>\n",
       "      <td>0</td>\n",
       "    </tr>\n",
       "    <tr>\n",
       "      <th>...</th>\n",
       "      <td>...</td>\n",
       "      <td>...</td>\n",
       "      <td>...</td>\n",
       "      <td>...</td>\n",
       "      <td>...</td>\n",
       "      <td>...</td>\n",
       "      <td>...</td>\n",
       "      <td>...</td>\n",
       "      <td>...</td>\n",
       "      <td>...</td>\n",
       "      <td>...</td>\n",
       "      <td>...</td>\n",
       "      <td>...</td>\n",
       "      <td>...</td>\n",
       "      <td>...</td>\n",
       "      <td>...</td>\n",
       "      <td>...</td>\n",
       "      <td>...</td>\n",
       "      <td>...</td>\n",
       "    </tr>\n",
       "    <tr>\n",
       "      <th>319536</th>\n",
       "      <td>0</td>\n",
       "      <td>0</td>\n",
       "      <td>0</td>\n",
       "      <td>0</td>\n",
       "      <td>0</td>\n",
       "      <td>0</td>\n",
       "      <td>0</td>\n",
       "      <td>0</td>\n",
       "      <td>0</td>\n",
       "      <td>0</td>\n",
       "      <td>0</td>\n",
       "      <td>0</td>\n",
       "      <td>0</td>\n",
       "      <td>1</td>\n",
       "      <td>0</td>\n",
       "      <td>0</td>\n",
       "      <td>0</td>\n",
       "      <td>1</td>\n",
       "      <td>0</td>\n",
       "    </tr>\n",
       "    <tr>\n",
       "      <th>319556</th>\n",
       "      <td>0</td>\n",
       "      <td>0</td>\n",
       "      <td>0</td>\n",
       "      <td>0</td>\n",
       "      <td>0</td>\n",
       "      <td>0</td>\n",
       "      <td>0</td>\n",
       "      <td>0</td>\n",
       "      <td>0</td>\n",
       "      <td>1</td>\n",
       "      <td>0</td>\n",
       "      <td>0</td>\n",
       "      <td>0</td>\n",
       "      <td>0</td>\n",
       "      <td>0</td>\n",
       "      <td>0</td>\n",
       "      <td>0</td>\n",
       "      <td>1</td>\n",
       "      <td>0</td>\n",
       "    </tr>\n",
       "    <tr>\n",
       "      <th>319584</th>\n",
       "      <td>0</td>\n",
       "      <td>0</td>\n",
       "      <td>0</td>\n",
       "      <td>0</td>\n",
       "      <td>0</td>\n",
       "      <td>0</td>\n",
       "      <td>0</td>\n",
       "      <td>0</td>\n",
       "      <td>0</td>\n",
       "      <td>0</td>\n",
       "      <td>0</td>\n",
       "      <td>0</td>\n",
       "      <td>0</td>\n",
       "      <td>0</td>\n",
       "      <td>0</td>\n",
       "      <td>0</td>\n",
       "      <td>0</td>\n",
       "      <td>1</td>\n",
       "      <td>1</td>\n",
       "    </tr>\n",
       "    <tr>\n",
       "      <th>319596</th>\n",
       "      <td>0</td>\n",
       "      <td>0</td>\n",
       "      <td>0</td>\n",
       "      <td>0</td>\n",
       "      <td>0</td>\n",
       "      <td>0</td>\n",
       "      <td>0</td>\n",
       "      <td>0</td>\n",
       "      <td>0</td>\n",
       "      <td>0</td>\n",
       "      <td>0</td>\n",
       "      <td>0</td>\n",
       "      <td>1</td>\n",
       "      <td>0</td>\n",
       "      <td>0</td>\n",
       "      <td>0</td>\n",
       "      <td>0</td>\n",
       "      <td>0</td>\n",
       "      <td>1</td>\n",
       "    </tr>\n",
       "    <tr>\n",
       "      <th>319631</th>\n",
       "      <td>0</td>\n",
       "      <td>0</td>\n",
       "      <td>0</td>\n",
       "      <td>1</td>\n",
       "      <td>0</td>\n",
       "      <td>0</td>\n",
       "      <td>0</td>\n",
       "      <td>0</td>\n",
       "      <td>0</td>\n",
       "      <td>0</td>\n",
       "      <td>0</td>\n",
       "      <td>0</td>\n",
       "      <td>1</td>\n",
       "      <td>0</td>\n",
       "      <td>0</td>\n",
       "      <td>0</td>\n",
       "      <td>0</td>\n",
       "      <td>0</td>\n",
       "      <td>0</td>\n",
       "    </tr>\n",
       "  </tbody>\n",
       "</table>\n",
       "<p>7136 rows × 19 columns</p>\n",
       "</div>"
      ],
      "text/plain": [
       "Product   20in Monitor  27in 4K Gaming Monitor  27in FHD Monitor   \n",
       "Order ID                                                           \n",
       "141275               0                       0                 0  \\\n",
       "141290               0                       0                 0   \n",
       "141365               0                       0                 0   \n",
       "141384               0                       0                 0   \n",
       "141450               0                       0                 0   \n",
       "...                ...                     ...               ...   \n",
       "319536               0                       0                 0   \n",
       "319556               0                       0                 0   \n",
       "319584               0                       0                 0   \n",
       "319596               0                       0                 0   \n",
       "319631               0                       0                 0   \n",
       "\n",
       "Product   34in Ultrawide Monitor  AA Batteries (4-pack)   \n",
       "Order ID                                                  \n",
       "141275                         0                      0  \\\n",
       "141290                         0                      1   \n",
       "141365                         0                      0   \n",
       "141384                         0                      0   \n",
       "141450                         0                      0   \n",
       "...                          ...                    ...   \n",
       "319536                         0                      0   \n",
       "319556                         0                      0   \n",
       "319584                         0                      0   \n",
       "319596                         0                      0   \n",
       "319631                         1                      0   \n",
       "\n",
       "Product   AAA Batteries (4-pack)  Apple Airpods Headphones   \n",
       "Order ID                                                     \n",
       "141275                         0                         0  \\\n",
       "141290                         0                         1   \n",
       "141365                         0                         0   \n",
       "141384                         0                         0   \n",
       "141450                         0                         0   \n",
       "...                          ...                       ...   \n",
       "319536                         0                         0   \n",
       "319556                         0                         0   \n",
       "319584                         0                         0   \n",
       "319596                         0                         0   \n",
       "319631                         0                         0   \n",
       "\n",
       "Product   Bose SoundSport Headphones  Flatscreen TV  Google Phone  LG Dryer   \n",
       "Order ID                                                                      \n",
       "141275                             0              0             0         0  \\\n",
       "141290                             0              0             0         0   \n",
       "141365                             0              0             0         0   \n",
       "141384                             0              0             1         0   \n",
       "141450                             1              0             1         0   \n",
       "...                              ...            ...           ...       ...   \n",
       "319536                             0              0             0         0   \n",
       "319556                             0              0             1         0   \n",
       "319584                             0              0             0         0   \n",
       "319596                             0              0             0         0   \n",
       "319631                             0              0             0         0   \n",
       "\n",
       "Product   LG Washing Machine  Lightning Charging Cable  Macbook Pro Laptop   \n",
       "Order ID                                                                     \n",
       "141275                     0                         0                   0  \\\n",
       "141290                     0                         0                   0   \n",
       "141365                     0                         0                   0   \n",
       "141384                     0                         0                   0   \n",
       "141450                     0                         0                   0   \n",
       "...                      ...                       ...                 ...   \n",
       "319536                     0                         0                   1   \n",
       "319556                     0                         0                   0   \n",
       "319584                     0                         0                   0   \n",
       "319596                     0                         1                   0   \n",
       "319631                     0                         1                   0   \n",
       "\n",
       "Product   ThinkPad Laptop  USB-C Charging Cable  Vareebadd Phone   \n",
       "Order ID                                                           \n",
       "141275                  0                     1                0  \\\n",
       "141290                  0                     0                0   \n",
       "141365                  0                     0                1   \n",
       "141384                  0                     1                0   \n",
       "141450                  0                     0                0   \n",
       "...                   ...                   ...              ...   \n",
       "319536                  0                     0                0   \n",
       "319556                  0                     0                0   \n",
       "319584                  0                     0                0   \n",
       "319596                  0                     0                0   \n",
       "319631                  0                     0                0   \n",
       "\n",
       "Product   Wired Headphones  iPhone  \n",
       "Order ID                            \n",
       "141275                   1       0  \n",
       "141290                   0       0  \n",
       "141365                   1       0  \n",
       "141384                   0       0  \n",
       "141450                   0       0  \n",
       "...                    ...     ...  \n",
       "319536                   1       0  \n",
       "319556                   1       0  \n",
       "319584                   1       1  \n",
       "319596                   0       1  \n",
       "319631                   0       0  \n",
       "\n",
       "[7136 rows x 19 columns]"
      ]
     },
     "execution_count": 185,
     "metadata": {},
     "output_type": "execute_result"
    }
   ],
   "source": [
    "cross_tab = df[df['Order ID'].duplicated(keep=False)]\n",
    "cross_tab = pd.crosstab(cross_tab['Order ID'],cross_tab['Product'])\n",
    "cross_tab"
   ]
  },
  {
   "cell_type": "code",
   "execution_count": 186,
   "id": "44479b56",
   "metadata": {},
   "outputs": [
    {
     "data": {
      "text/html": [
       "<div>\n",
       "<style scoped>\n",
       "    .dataframe tbody tr th:only-of-type {\n",
       "        vertical-align: middle;\n",
       "    }\n",
       "\n",
       "    .dataframe tbody tr th {\n",
       "        vertical-align: top;\n",
       "    }\n",
       "\n",
       "    .dataframe thead th {\n",
       "        text-align: right;\n",
       "    }\n",
       "</style>\n",
       "<table border=\"1\" class=\"dataframe\">\n",
       "  <thead>\n",
       "    <tr style=\"text-align: right;\">\n",
       "      <th>Product</th>\n",
       "      <th>20in Monitor</th>\n",
       "      <th>27in 4K Gaming Monitor</th>\n",
       "      <th>27in FHD Monitor</th>\n",
       "      <th>34in Ultrawide Monitor</th>\n",
       "      <th>AA Batteries (4-pack)</th>\n",
       "      <th>AAA Batteries (4-pack)</th>\n",
       "      <th>Apple Airpods Headphones</th>\n",
       "      <th>Bose SoundSport Headphones</th>\n",
       "      <th>Flatscreen TV</th>\n",
       "      <th>Google Phone</th>\n",
       "      <th>LG Dryer</th>\n",
       "      <th>LG Washing Machine</th>\n",
       "      <th>Lightning Charging Cable</th>\n",
       "      <th>Macbook Pro Laptop</th>\n",
       "      <th>ThinkPad Laptop</th>\n",
       "      <th>USB-C Charging Cable</th>\n",
       "      <th>Vareebadd Phone</th>\n",
       "      <th>Wired Headphones</th>\n",
       "      <th>iPhone</th>\n",
       "    </tr>\n",
       "    <tr>\n",
       "      <th>Product</th>\n",
       "      <th></th>\n",
       "      <th></th>\n",
       "      <th></th>\n",
       "      <th></th>\n",
       "      <th></th>\n",
       "      <th></th>\n",
       "      <th></th>\n",
       "      <th></th>\n",
       "      <th></th>\n",
       "      <th></th>\n",
       "      <th></th>\n",
       "      <th></th>\n",
       "      <th></th>\n",
       "      <th></th>\n",
       "      <th></th>\n",
       "      <th></th>\n",
       "      <th></th>\n",
       "      <th></th>\n",
       "      <th></th>\n",
       "    </tr>\n",
       "  </thead>\n",
       "  <tbody>\n",
       "    <tr>\n",
       "      <th>20in Monitor</th>\n",
       "      <td>165</td>\n",
       "      <td>2</td>\n",
       "      <td>5</td>\n",
       "      <td>2</td>\n",
       "      <td>16</td>\n",
       "      <td>11</td>\n",
       "      <td>13</td>\n",
       "      <td>15</td>\n",
       "      <td>2</td>\n",
       "      <td>4</td>\n",
       "      <td>0</td>\n",
       "      <td>2</td>\n",
       "      <td>26</td>\n",
       "      <td>6</td>\n",
       "      <td>2</td>\n",
       "      <td>25</td>\n",
       "      <td>0</td>\n",
       "      <td>19</td>\n",
       "      <td>3</td>\n",
       "    </tr>\n",
       "    <tr>\n",
       "      <th>27in 4K Gaming Monitor</th>\n",
       "      <td>2</td>\n",
       "      <td>261</td>\n",
       "      <td>8</td>\n",
       "      <td>6</td>\n",
       "      <td>26</td>\n",
       "      <td>30</td>\n",
       "      <td>22</td>\n",
       "      <td>19</td>\n",
       "      <td>5</td>\n",
       "      <td>6</td>\n",
       "      <td>2</td>\n",
       "      <td>1</td>\n",
       "      <td>34</td>\n",
       "      <td>13</td>\n",
       "      <td>5</td>\n",
       "      <td>23</td>\n",
       "      <td>3</td>\n",
       "      <td>29</td>\n",
       "      <td>9</td>\n",
       "    </tr>\n",
       "    <tr>\n",
       "      <th>27in FHD Monitor</th>\n",
       "      <td>5</td>\n",
       "      <td>8</td>\n",
       "      <td>312</td>\n",
       "      <td>10</td>\n",
       "      <td>26</td>\n",
       "      <td>43</td>\n",
       "      <td>24</td>\n",
       "      <td>26</td>\n",
       "      <td>6</td>\n",
       "      <td>8</td>\n",
       "      <td>3</td>\n",
       "      <td>1</td>\n",
       "      <td>36</td>\n",
       "      <td>9</td>\n",
       "      <td>6</td>\n",
       "      <td>43</td>\n",
       "      <td>2</td>\n",
       "      <td>22</td>\n",
       "      <td>2</td>\n",
       "    </tr>\n",
       "    <tr>\n",
       "      <th>34in Ultrawide Monitor</th>\n",
       "      <td>2</td>\n",
       "      <td>6</td>\n",
       "      <td>10</td>\n",
       "      <td>260</td>\n",
       "      <td>32</td>\n",
       "      <td>25</td>\n",
       "      <td>14</td>\n",
       "      <td>17</td>\n",
       "      <td>8</td>\n",
       "      <td>5</td>\n",
       "      <td>0</td>\n",
       "      <td>1</td>\n",
       "      <td>33</td>\n",
       "      <td>7</td>\n",
       "      <td>4</td>\n",
       "      <td>26</td>\n",
       "      <td>4</td>\n",
       "      <td>28</td>\n",
       "      <td>13</td>\n",
       "    </tr>\n",
       "    <tr>\n",
       "      <th>AA Batteries (4-pack)</th>\n",
       "      <td>16</td>\n",
       "      <td>26</td>\n",
       "      <td>26</td>\n",
       "      <td>32</td>\n",
       "      <td>838</td>\n",
       "      <td>87</td>\n",
       "      <td>70</td>\n",
       "      <td>55</td>\n",
       "      <td>21</td>\n",
       "      <td>25</td>\n",
       "      <td>6</td>\n",
       "      <td>1</td>\n",
       "      <td>106</td>\n",
       "      <td>17</td>\n",
       "      <td>17</td>\n",
       "      <td>75</td>\n",
       "      <td>12</td>\n",
       "      <td>83</td>\n",
       "      <td>32</td>\n",
       "    </tr>\n",
       "    <tr>\n",
       "      <th>AAA Batteries (4-pack)</th>\n",
       "      <td>11</td>\n",
       "      <td>30</td>\n",
       "      <td>43</td>\n",
       "      <td>25</td>\n",
       "      <td>87</td>\n",
       "      <td>911</td>\n",
       "      <td>81</td>\n",
       "      <td>57</td>\n",
       "      <td>21</td>\n",
       "      <td>22</td>\n",
       "      <td>2</td>\n",
       "      <td>4</td>\n",
       "      <td>80</td>\n",
       "      <td>18</td>\n",
       "      <td>27</td>\n",
       "      <td>95</td>\n",
       "      <td>6</td>\n",
       "      <td>86</td>\n",
       "      <td>31</td>\n",
       "    </tr>\n",
       "    <tr>\n",
       "      <th>Apple Airpods Headphones</th>\n",
       "      <td>13</td>\n",
       "      <td>22</td>\n",
       "      <td>24</td>\n",
       "      <td>14</td>\n",
       "      <td>70</td>\n",
       "      <td>81</td>\n",
       "      <td>1022</td>\n",
       "      <td>50</td>\n",
       "      <td>13</td>\n",
       "      <td>21</td>\n",
       "      <td>3</td>\n",
       "      <td>1</td>\n",
       "      <td>116</td>\n",
       "      <td>19</td>\n",
       "      <td>16</td>\n",
       "      <td>63</td>\n",
       "      <td>12</td>\n",
       "      <td>100</td>\n",
       "      <td>373</td>\n",
       "    </tr>\n",
       "    <tr>\n",
       "      <th>Bose SoundSport Headphones</th>\n",
       "      <td>15</td>\n",
       "      <td>19</td>\n",
       "      <td>26</td>\n",
       "      <td>17</td>\n",
       "      <td>55</td>\n",
       "      <td>57</td>\n",
       "      <td>50</td>\n",
       "      <td>874</td>\n",
       "      <td>13</td>\n",
       "      <td>228</td>\n",
       "      <td>0</td>\n",
       "      <td>2</td>\n",
       "      <td>72</td>\n",
       "      <td>15</td>\n",
       "      <td>13</td>\n",
       "      <td>102</td>\n",
       "      <td>82</td>\n",
       "      <td>74</td>\n",
       "      <td>12</td>\n",
       "    </tr>\n",
       "    <tr>\n",
       "      <th>Flatscreen TV</th>\n",
       "      <td>2</td>\n",
       "      <td>5</td>\n",
       "      <td>6</td>\n",
       "      <td>8</td>\n",
       "      <td>21</td>\n",
       "      <td>21</td>\n",
       "      <td>13</td>\n",
       "      <td>13</td>\n",
       "      <td>190</td>\n",
       "      <td>4</td>\n",
       "      <td>1</td>\n",
       "      <td>0</td>\n",
       "      <td>22</td>\n",
       "      <td>5</td>\n",
       "      <td>6</td>\n",
       "      <td>17</td>\n",
       "      <td>3</td>\n",
       "      <td>11</td>\n",
       "      <td>10</td>\n",
       "    </tr>\n",
       "    <tr>\n",
       "      <th>Google Phone</th>\n",
       "      <td>4</td>\n",
       "      <td>6</td>\n",
       "      <td>8</td>\n",
       "      <td>5</td>\n",
       "      <td>25</td>\n",
       "      <td>22</td>\n",
       "      <td>21</td>\n",
       "      <td>228</td>\n",
       "      <td>4</td>\n",
       "      <td>1645</td>\n",
       "      <td>1</td>\n",
       "      <td>1</td>\n",
       "      <td>28</td>\n",
       "      <td>7</td>\n",
       "      <td>6</td>\n",
       "      <td>999</td>\n",
       "      <td>5</td>\n",
       "      <td>423</td>\n",
       "      <td>9</td>\n",
       "    </tr>\n",
       "    <tr>\n",
       "      <th>LG Dryer</th>\n",
       "      <td>0</td>\n",
       "      <td>2</td>\n",
       "      <td>3</td>\n",
       "      <td>0</td>\n",
       "      <td>6</td>\n",
       "      <td>2</td>\n",
       "      <td>3</td>\n",
       "      <td>0</td>\n",
       "      <td>1</td>\n",
       "      <td>1</td>\n",
       "      <td>25</td>\n",
       "      <td>0</td>\n",
       "      <td>3</td>\n",
       "      <td>0</td>\n",
       "      <td>1</td>\n",
       "      <td>1</td>\n",
       "      <td>1</td>\n",
       "      <td>1</td>\n",
       "      <td>0</td>\n",
       "    </tr>\n",
       "    <tr>\n",
       "      <th>LG Washing Machine</th>\n",
       "      <td>2</td>\n",
       "      <td>1</td>\n",
       "      <td>1</td>\n",
       "      <td>1</td>\n",
       "      <td>1</td>\n",
       "      <td>4</td>\n",
       "      <td>1</td>\n",
       "      <td>2</td>\n",
       "      <td>0</td>\n",
       "      <td>1</td>\n",
       "      <td>0</td>\n",
       "      <td>28</td>\n",
       "      <td>6</td>\n",
       "      <td>2</td>\n",
       "      <td>0</td>\n",
       "      <td>0</td>\n",
       "      <td>0</td>\n",
       "      <td>4</td>\n",
       "      <td>2</td>\n",
       "    </tr>\n",
       "    <tr>\n",
       "      <th>Lightning Charging Cable</th>\n",
       "      <td>26</td>\n",
       "      <td>34</td>\n",
       "      <td>36</td>\n",
       "      <td>33</td>\n",
       "      <td>106</td>\n",
       "      <td>80</td>\n",
       "      <td>116</td>\n",
       "      <td>72</td>\n",
       "      <td>22</td>\n",
       "      <td>28</td>\n",
       "      <td>3</td>\n",
       "      <td>6</td>\n",
       "      <td>1935</td>\n",
       "      <td>21</td>\n",
       "      <td>20</td>\n",
       "      <td>100</td>\n",
       "      <td>4</td>\n",
       "      <td>129</td>\n",
       "      <td>1015</td>\n",
       "    </tr>\n",
       "    <tr>\n",
       "      <th>Macbook Pro Laptop</th>\n",
       "      <td>6</td>\n",
       "      <td>13</td>\n",
       "      <td>9</td>\n",
       "      <td>7</td>\n",
       "      <td>17</td>\n",
       "      <td>18</td>\n",
       "      <td>19</td>\n",
       "      <td>15</td>\n",
       "      <td>5</td>\n",
       "      <td>7</td>\n",
       "      <td>0</td>\n",
       "      <td>2</td>\n",
       "      <td>21</td>\n",
       "      <td>202</td>\n",
       "      <td>5</td>\n",
       "      <td>21</td>\n",
       "      <td>0</td>\n",
       "      <td>20</td>\n",
       "      <td>6</td>\n",
       "    </tr>\n",
       "    <tr>\n",
       "      <th>ThinkPad Laptop</th>\n",
       "      <td>2</td>\n",
       "      <td>5</td>\n",
       "      <td>6</td>\n",
       "      <td>4</td>\n",
       "      <td>17</td>\n",
       "      <td>27</td>\n",
       "      <td>16</td>\n",
       "      <td>13</td>\n",
       "      <td>6</td>\n",
       "      <td>6</td>\n",
       "      <td>1</td>\n",
       "      <td>0</td>\n",
       "      <td>20</td>\n",
       "      <td>5</td>\n",
       "      <td>180</td>\n",
       "      <td>20</td>\n",
       "      <td>3</td>\n",
       "      <td>14</td>\n",
       "      <td>7</td>\n",
       "    </tr>\n",
       "    <tr>\n",
       "      <th>USB-C Charging Cable</th>\n",
       "      <td>25</td>\n",
       "      <td>23</td>\n",
       "      <td>43</td>\n",
       "      <td>26</td>\n",
       "      <td>75</td>\n",
       "      <td>95</td>\n",
       "      <td>63</td>\n",
       "      <td>102</td>\n",
       "      <td>17</td>\n",
       "      <td>999</td>\n",
       "      <td>1</td>\n",
       "      <td>0</td>\n",
       "      <td>100</td>\n",
       "      <td>21</td>\n",
       "      <td>20</td>\n",
       "      <td>2207</td>\n",
       "      <td>368</td>\n",
       "      <td>205</td>\n",
       "      <td>29</td>\n",
       "    </tr>\n",
       "    <tr>\n",
       "      <th>Vareebadd Phone</th>\n",
       "      <td>0</td>\n",
       "      <td>3</td>\n",
       "      <td>2</td>\n",
       "      <td>4</td>\n",
       "      <td>12</td>\n",
       "      <td>6</td>\n",
       "      <td>12</td>\n",
       "      <td>82</td>\n",
       "      <td>3</td>\n",
       "      <td>5</td>\n",
       "      <td>1</td>\n",
       "      <td>0</td>\n",
       "      <td>4</td>\n",
       "      <td>0</td>\n",
       "      <td>3</td>\n",
       "      <td>368</td>\n",
       "      <td>601</td>\n",
       "      <td>149</td>\n",
       "      <td>7</td>\n",
       "    </tr>\n",
       "    <tr>\n",
       "      <th>Wired Headphones</th>\n",
       "      <td>19</td>\n",
       "      <td>29</td>\n",
       "      <td>22</td>\n",
       "      <td>28</td>\n",
       "      <td>83</td>\n",
       "      <td>86</td>\n",
       "      <td>100</td>\n",
       "      <td>74</td>\n",
       "      <td>11</td>\n",
       "      <td>423</td>\n",
       "      <td>1</td>\n",
       "      <td>4</td>\n",
       "      <td>129</td>\n",
       "      <td>20</td>\n",
       "      <td>14</td>\n",
       "      <td>205</td>\n",
       "      <td>149</td>\n",
       "      <td>1744</td>\n",
       "      <td>462</td>\n",
       "    </tr>\n",
       "    <tr>\n",
       "      <th>iPhone</th>\n",
       "      <td>3</td>\n",
       "      <td>9</td>\n",
       "      <td>2</td>\n",
       "      <td>13</td>\n",
       "      <td>32</td>\n",
       "      <td>31</td>\n",
       "      <td>373</td>\n",
       "      <td>12</td>\n",
       "      <td>10</td>\n",
       "      <td>9</td>\n",
       "      <td>0</td>\n",
       "      <td>2</td>\n",
       "      <td>1015</td>\n",
       "      <td>6</td>\n",
       "      <td>7</td>\n",
       "      <td>29</td>\n",
       "      <td>7</td>\n",
       "      <td>462</td>\n",
       "      <td>1871</td>\n",
       "    </tr>\n",
       "  </tbody>\n",
       "</table>\n",
       "</div>"
      ],
      "text/plain": [
       "Product                     20in Monitor  27in 4K Gaming Monitor   \n",
       "Product                                                            \n",
       "20in Monitor                         165                       2  \\\n",
       "27in 4K Gaming Monitor                 2                     261   \n",
       "27in FHD Monitor                       5                       8   \n",
       "34in Ultrawide Monitor                 2                       6   \n",
       "AA Batteries (4-pack)                 16                      26   \n",
       "AAA Batteries (4-pack)                11                      30   \n",
       "Apple Airpods Headphones              13                      22   \n",
       "Bose SoundSport Headphones            15                      19   \n",
       "Flatscreen TV                          2                       5   \n",
       "Google Phone                           4                       6   \n",
       "LG Dryer                               0                       2   \n",
       "LG Washing Machine                     2                       1   \n",
       "Lightning Charging Cable              26                      34   \n",
       "Macbook Pro Laptop                     6                      13   \n",
       "ThinkPad Laptop                        2                       5   \n",
       "USB-C Charging Cable                  25                      23   \n",
       "Vareebadd Phone                        0                       3   \n",
       "Wired Headphones                      19                      29   \n",
       "iPhone                                 3                       9   \n",
       "\n",
       "Product                     27in FHD Monitor  34in Ultrawide Monitor   \n",
       "Product                                                                \n",
       "20in Monitor                               5                       2  \\\n",
       "27in 4K Gaming Monitor                     8                       6   \n",
       "27in FHD Monitor                         312                      10   \n",
       "34in Ultrawide Monitor                    10                     260   \n",
       "AA Batteries (4-pack)                     26                      32   \n",
       "AAA Batteries (4-pack)                    43                      25   \n",
       "Apple Airpods Headphones                  24                      14   \n",
       "Bose SoundSport Headphones                26                      17   \n",
       "Flatscreen TV                              6                       8   \n",
       "Google Phone                               8                       5   \n",
       "LG Dryer                                   3                       0   \n",
       "LG Washing Machine                         1                       1   \n",
       "Lightning Charging Cable                  36                      33   \n",
       "Macbook Pro Laptop                         9                       7   \n",
       "ThinkPad Laptop                            6                       4   \n",
       "USB-C Charging Cable                      43                      26   \n",
       "Vareebadd Phone                            2                       4   \n",
       "Wired Headphones                          22                      28   \n",
       "iPhone                                     2                      13   \n",
       "\n",
       "Product                     AA Batteries (4-pack)  AAA Batteries (4-pack)   \n",
       "Product                                                                     \n",
       "20in Monitor                                   16                      11  \\\n",
       "27in 4K Gaming Monitor                         26                      30   \n",
       "27in FHD Monitor                               26                      43   \n",
       "34in Ultrawide Monitor                         32                      25   \n",
       "AA Batteries (4-pack)                         838                      87   \n",
       "AAA Batteries (4-pack)                         87                     911   \n",
       "Apple Airpods Headphones                       70                      81   \n",
       "Bose SoundSport Headphones                     55                      57   \n",
       "Flatscreen TV                                  21                      21   \n",
       "Google Phone                                   25                      22   \n",
       "LG Dryer                                        6                       2   \n",
       "LG Washing Machine                              1                       4   \n",
       "Lightning Charging Cable                      106                      80   \n",
       "Macbook Pro Laptop                             17                      18   \n",
       "ThinkPad Laptop                                17                      27   \n",
       "USB-C Charging Cable                           75                      95   \n",
       "Vareebadd Phone                                12                       6   \n",
       "Wired Headphones                               83                      86   \n",
       "iPhone                                         32                      31   \n",
       "\n",
       "Product                     Apple Airpods Headphones   \n",
       "Product                                                \n",
       "20in Monitor                                      13  \\\n",
       "27in 4K Gaming Monitor                            22   \n",
       "27in FHD Monitor                                  24   \n",
       "34in Ultrawide Monitor                            14   \n",
       "AA Batteries (4-pack)                             70   \n",
       "AAA Batteries (4-pack)                            81   \n",
       "Apple Airpods Headphones                        1022   \n",
       "Bose SoundSport Headphones                        50   \n",
       "Flatscreen TV                                     13   \n",
       "Google Phone                                      21   \n",
       "LG Dryer                                           3   \n",
       "LG Washing Machine                                 1   \n",
       "Lightning Charging Cable                         116   \n",
       "Macbook Pro Laptop                                19   \n",
       "ThinkPad Laptop                                   16   \n",
       "USB-C Charging Cable                              63   \n",
       "Vareebadd Phone                                   12   \n",
       "Wired Headphones                                 100   \n",
       "iPhone                                           373   \n",
       "\n",
       "Product                     Bose SoundSport Headphones  Flatscreen TV   \n",
       "Product                                                                 \n",
       "20in Monitor                                        15              2  \\\n",
       "27in 4K Gaming Monitor                              19              5   \n",
       "27in FHD Monitor                                    26              6   \n",
       "34in Ultrawide Monitor                              17              8   \n",
       "AA Batteries (4-pack)                               55             21   \n",
       "AAA Batteries (4-pack)                              57             21   \n",
       "Apple Airpods Headphones                            50             13   \n",
       "Bose SoundSport Headphones                         874             13   \n",
       "Flatscreen TV                                       13            190   \n",
       "Google Phone                                       228              4   \n",
       "LG Dryer                                             0              1   \n",
       "LG Washing Machine                                   2              0   \n",
       "Lightning Charging Cable                            72             22   \n",
       "Macbook Pro Laptop                                  15              5   \n",
       "ThinkPad Laptop                                     13              6   \n",
       "USB-C Charging Cable                               102             17   \n",
       "Vareebadd Phone                                     82              3   \n",
       "Wired Headphones                                    74             11   \n",
       "iPhone                                              12             10   \n",
       "\n",
       "Product                     Google Phone  LG Dryer  LG Washing Machine   \n",
       "Product                                                                  \n",
       "20in Monitor                           4         0                   2  \\\n",
       "27in 4K Gaming Monitor                 6         2                   1   \n",
       "27in FHD Monitor                       8         3                   1   \n",
       "34in Ultrawide Monitor                 5         0                   1   \n",
       "AA Batteries (4-pack)                 25         6                   1   \n",
       "AAA Batteries (4-pack)                22         2                   4   \n",
       "Apple Airpods Headphones              21         3                   1   \n",
       "Bose SoundSport Headphones           228         0                   2   \n",
       "Flatscreen TV                          4         1                   0   \n",
       "Google Phone                        1645         1                   1   \n",
       "LG Dryer                               1        25                   0   \n",
       "LG Washing Machine                     1         0                  28   \n",
       "Lightning Charging Cable              28         3                   6   \n",
       "Macbook Pro Laptop                     7         0                   2   \n",
       "ThinkPad Laptop                        6         1                   0   \n",
       "USB-C Charging Cable                 999         1                   0   \n",
       "Vareebadd Phone                        5         1                   0   \n",
       "Wired Headphones                     423         1                   4   \n",
       "iPhone                                 9         0                   2   \n",
       "\n",
       "Product                     Lightning Charging Cable  Macbook Pro Laptop   \n",
       "Product                                                                    \n",
       "20in Monitor                                      26                   6  \\\n",
       "27in 4K Gaming Monitor                            34                  13   \n",
       "27in FHD Monitor                                  36                   9   \n",
       "34in Ultrawide Monitor                            33                   7   \n",
       "AA Batteries (4-pack)                            106                  17   \n",
       "AAA Batteries (4-pack)                            80                  18   \n",
       "Apple Airpods Headphones                         116                  19   \n",
       "Bose SoundSport Headphones                        72                  15   \n",
       "Flatscreen TV                                     22                   5   \n",
       "Google Phone                                      28                   7   \n",
       "LG Dryer                                           3                   0   \n",
       "LG Washing Machine                                 6                   2   \n",
       "Lightning Charging Cable                        1935                  21   \n",
       "Macbook Pro Laptop                                21                 202   \n",
       "ThinkPad Laptop                                   20                   5   \n",
       "USB-C Charging Cable                             100                  21   \n",
       "Vareebadd Phone                                    4                   0   \n",
       "Wired Headphones                                 129                  20   \n",
       "iPhone                                          1015                   6   \n",
       "\n",
       "Product                     ThinkPad Laptop  USB-C Charging Cable   \n",
       "Product                                                             \n",
       "20in Monitor                              2                    25  \\\n",
       "27in 4K Gaming Monitor                    5                    23   \n",
       "27in FHD Monitor                          6                    43   \n",
       "34in Ultrawide Monitor                    4                    26   \n",
       "AA Batteries (4-pack)                    17                    75   \n",
       "AAA Batteries (4-pack)                   27                    95   \n",
       "Apple Airpods Headphones                 16                    63   \n",
       "Bose SoundSport Headphones               13                   102   \n",
       "Flatscreen TV                             6                    17   \n",
       "Google Phone                              6                   999   \n",
       "LG Dryer                                  1                     1   \n",
       "LG Washing Machine                        0                     0   \n",
       "Lightning Charging Cable                 20                   100   \n",
       "Macbook Pro Laptop                        5                    21   \n",
       "ThinkPad Laptop                         180                    20   \n",
       "USB-C Charging Cable                     20                  2207   \n",
       "Vareebadd Phone                           3                   368   \n",
       "Wired Headphones                         14                   205   \n",
       "iPhone                                    7                    29   \n",
       "\n",
       "Product                     Vareebadd Phone  Wired Headphones  iPhone  \n",
       "Product                                                                \n",
       "20in Monitor                              0                19       3  \n",
       "27in 4K Gaming Monitor                    3                29       9  \n",
       "27in FHD Monitor                          2                22       2  \n",
       "34in Ultrawide Monitor                    4                28      13  \n",
       "AA Batteries (4-pack)                    12                83      32  \n",
       "AAA Batteries (4-pack)                    6                86      31  \n",
       "Apple Airpods Headphones                 12               100     373  \n",
       "Bose SoundSport Headphones               82                74      12  \n",
       "Flatscreen TV                             3                11      10  \n",
       "Google Phone                              5               423       9  \n",
       "LG Dryer                                  1                 1       0  \n",
       "LG Washing Machine                        0                 4       2  \n",
       "Lightning Charging Cable                  4               129    1015  \n",
       "Macbook Pro Laptop                        0                20       6  \n",
       "ThinkPad Laptop                           3                14       7  \n",
       "USB-C Charging Cable                    368               205      29  \n",
       "Vareebadd Phone                         601               149       7  \n",
       "Wired Headphones                        149              1744     462  \n",
       "iPhone                                    7               462    1871  "
      ]
     },
     "execution_count": 186,
     "metadata": {},
     "output_type": "execute_result"
    }
   ],
   "source": [
    "#create new matrix from df(0-1)\n",
    "prod_matrix = pd.DataFrame(data = cross_tab.values.T@cross_tab.values, columns = cross_tab.columns, index = cross_tab.columns)\n",
    "prod_matrix"
   ]
  },
  {
   "cell_type": "code",
   "execution_count": 187,
   "id": "582293cf",
   "metadata": {},
   "outputs": [
    {
     "data": {
      "application/vnd.plotly.v1+json": {
       "config": {
        "linkText": "Export to plot.ly",
        "plotlyServerURL": "https://plot.ly",
        "showLink": true
       },
       "data": [
        {
         "colorscale": [
          [
           0,
           "rgb(247,251,255)"
          ],
          [
           0.125,
           "rgb(222,235,247)"
          ],
          [
           0.25,
           "rgb(198,219,239)"
          ],
          [
           0.375,
           "rgb(158,202,225)"
          ],
          [
           0.5,
           "rgb(107,174,214)"
          ],
          [
           0.625,
           "rgb(66,146,198)"
          ],
          [
           0.75,
           "rgb(33,113,181)"
          ],
          [
           0.875,
           "rgb(8,81,156)"
          ],
          [
           1,
           "rgb(8,48,107)"
          ]
         ],
         "type": "heatmap",
         "x": [
          "20in Monitor",
          "27in 4K Gaming Monitor",
          "27in FHD Monitor",
          "34in Ultrawide Monitor",
          "AA Batteries (4-pack)",
          "AAA Batteries (4-pack)",
          "Apple Airpods Headphones",
          "Bose SoundSport Headphones",
          "Flatscreen TV",
          "Google Phone",
          "LG Dryer",
          "LG Washing Machine",
          "Lightning Charging Cable",
          "Macbook Pro Laptop",
          "ThinkPad Laptop",
          "USB-C Charging Cable",
          "Vareebadd Phone",
          "Wired Headphones",
          "iPhone"
         ],
         "y": [
          "20in Monitor",
          "27in 4K Gaming Monitor",
          "27in FHD Monitor",
          "34in Ultrawide Monitor",
          "AA Batteries (4-pack)",
          "AAA Batteries (4-pack)",
          "Apple Airpods Headphones",
          "Bose SoundSport Headphones",
          "Flatscreen TV",
          "Google Phone",
          "LG Dryer",
          "LG Washing Machine",
          "Lightning Charging Cable",
          "Macbook Pro Laptop",
          "ThinkPad Laptop",
          "USB-C Charging Cable",
          "Vareebadd Phone",
          "Wired Headphones",
          "iPhone"
         ],
         "z": [
          [
           165,
           2,
           5,
           2,
           16,
           11,
           13,
           15,
           2,
           4,
           0,
           2,
           26,
           6,
           2,
           25,
           0,
           19,
           3
          ],
          [
           2,
           261,
           8,
           6,
           26,
           30,
           22,
           19,
           5,
           6,
           2,
           1,
           34,
           13,
           5,
           23,
           3,
           29,
           9
          ],
          [
           5,
           8,
           312,
           10,
           26,
           43,
           24,
           26,
           6,
           8,
           3,
           1,
           36,
           9,
           6,
           43,
           2,
           22,
           2
          ],
          [
           2,
           6,
           10,
           260,
           32,
           25,
           14,
           17,
           8,
           5,
           0,
           1,
           33,
           7,
           4,
           26,
           4,
           28,
           13
          ],
          [
           16,
           26,
           26,
           32,
           838,
           87,
           70,
           55,
           21,
           25,
           6,
           1,
           106,
           17,
           17,
           75,
           12,
           83,
           32
          ],
          [
           11,
           30,
           43,
           25,
           87,
           911,
           81,
           57,
           21,
           22,
           2,
           4,
           80,
           18,
           27,
           95,
           6,
           86,
           31
          ],
          [
           13,
           22,
           24,
           14,
           70,
           81,
           1022,
           50,
           13,
           21,
           3,
           1,
           116,
           19,
           16,
           63,
           12,
           100,
           373
          ],
          [
           15,
           19,
           26,
           17,
           55,
           57,
           50,
           874,
           13,
           228,
           0,
           2,
           72,
           15,
           13,
           102,
           82,
           74,
           12
          ],
          [
           2,
           5,
           6,
           8,
           21,
           21,
           13,
           13,
           190,
           4,
           1,
           0,
           22,
           5,
           6,
           17,
           3,
           11,
           10
          ],
          [
           4,
           6,
           8,
           5,
           25,
           22,
           21,
           228,
           4,
           1645,
           1,
           1,
           28,
           7,
           6,
           999,
           5,
           423,
           9
          ],
          [
           0,
           2,
           3,
           0,
           6,
           2,
           3,
           0,
           1,
           1,
           25,
           0,
           3,
           0,
           1,
           1,
           1,
           1,
           0
          ],
          [
           2,
           1,
           1,
           1,
           1,
           4,
           1,
           2,
           0,
           1,
           0,
           28,
           6,
           2,
           0,
           0,
           0,
           4,
           2
          ],
          [
           26,
           34,
           36,
           33,
           106,
           80,
           116,
           72,
           22,
           28,
           3,
           6,
           1935,
           21,
           20,
           100,
           4,
           129,
           1015
          ],
          [
           6,
           13,
           9,
           7,
           17,
           18,
           19,
           15,
           5,
           7,
           0,
           2,
           21,
           202,
           5,
           21,
           0,
           20,
           6
          ],
          [
           2,
           5,
           6,
           4,
           17,
           27,
           16,
           13,
           6,
           6,
           1,
           0,
           20,
           5,
           180,
           20,
           3,
           14,
           7
          ],
          [
           25,
           23,
           43,
           26,
           75,
           95,
           63,
           102,
           17,
           999,
           1,
           0,
           100,
           21,
           20,
           2207,
           368,
           205,
           29
          ],
          [
           0,
           3,
           2,
           4,
           12,
           6,
           12,
           82,
           3,
           5,
           1,
           0,
           4,
           0,
           3,
           368,
           601,
           149,
           7
          ],
          [
           19,
           29,
           22,
           28,
           83,
           86,
           100,
           74,
           11,
           423,
           1,
           4,
           129,
           20,
           14,
           205,
           149,
           1744,
           462
          ],
          [
           3,
           9,
           2,
           13,
           32,
           31,
           373,
           12,
           10,
           9,
           0,
           2,
           1015,
           6,
           7,
           29,
           7,
           462,
           1871
          ]
         ],
         "zmax": 2207,
         "zmin": 0
        }
       ],
       "layout": {
        "legend": {
         "bgcolor": "#F5F6F9",
         "font": {
          "color": "#4D5663"
         }
        },
        "paper_bgcolor": "#F5F6F9",
        "plot_bgcolor": "#F5F6F9",
        "template": {
         "data": {
          "bar": [
           {
            "error_x": {
             "color": "#2a3f5f"
            },
            "error_y": {
             "color": "#2a3f5f"
            },
            "marker": {
             "line": {
              "color": "#E5ECF6",
              "width": 0.5
             },
             "pattern": {
              "fillmode": "overlay",
              "size": 10,
              "solidity": 0.2
             }
            },
            "type": "bar"
           }
          ],
          "barpolar": [
           {
            "marker": {
             "line": {
              "color": "#E5ECF6",
              "width": 0.5
             },
             "pattern": {
              "fillmode": "overlay",
              "size": 10,
              "solidity": 0.2
             }
            },
            "type": "barpolar"
           }
          ],
          "carpet": [
           {
            "aaxis": {
             "endlinecolor": "#2a3f5f",
             "gridcolor": "white",
             "linecolor": "white",
             "minorgridcolor": "white",
             "startlinecolor": "#2a3f5f"
            },
            "baxis": {
             "endlinecolor": "#2a3f5f",
             "gridcolor": "white",
             "linecolor": "white",
             "minorgridcolor": "white",
             "startlinecolor": "#2a3f5f"
            },
            "type": "carpet"
           }
          ],
          "choropleth": [
           {
            "colorbar": {
             "outlinewidth": 0,
             "ticks": ""
            },
            "type": "choropleth"
           }
          ],
          "contour": [
           {
            "colorbar": {
             "outlinewidth": 0,
             "ticks": ""
            },
            "colorscale": [
             [
              0,
              "#0d0887"
             ],
             [
              0.1111111111111111,
              "#46039f"
             ],
             [
              0.2222222222222222,
              "#7201a8"
             ],
             [
              0.3333333333333333,
              "#9c179e"
             ],
             [
              0.4444444444444444,
              "#bd3786"
             ],
             [
              0.5555555555555556,
              "#d8576b"
             ],
             [
              0.6666666666666666,
              "#ed7953"
             ],
             [
              0.7777777777777778,
              "#fb9f3a"
             ],
             [
              0.8888888888888888,
              "#fdca26"
             ],
             [
              1,
              "#f0f921"
             ]
            ],
            "type": "contour"
           }
          ],
          "contourcarpet": [
           {
            "colorbar": {
             "outlinewidth": 0,
             "ticks": ""
            },
            "type": "contourcarpet"
           }
          ],
          "heatmap": [
           {
            "colorbar": {
             "outlinewidth": 0,
             "ticks": ""
            },
            "colorscale": [
             [
              0,
              "#0d0887"
             ],
             [
              0.1111111111111111,
              "#46039f"
             ],
             [
              0.2222222222222222,
              "#7201a8"
             ],
             [
              0.3333333333333333,
              "#9c179e"
             ],
             [
              0.4444444444444444,
              "#bd3786"
             ],
             [
              0.5555555555555556,
              "#d8576b"
             ],
             [
              0.6666666666666666,
              "#ed7953"
             ],
             [
              0.7777777777777778,
              "#fb9f3a"
             ],
             [
              0.8888888888888888,
              "#fdca26"
             ],
             [
              1,
              "#f0f921"
             ]
            ],
            "type": "heatmap"
           }
          ],
          "heatmapgl": [
           {
            "colorbar": {
             "outlinewidth": 0,
             "ticks": ""
            },
            "colorscale": [
             [
              0,
              "#0d0887"
             ],
             [
              0.1111111111111111,
              "#46039f"
             ],
             [
              0.2222222222222222,
              "#7201a8"
             ],
             [
              0.3333333333333333,
              "#9c179e"
             ],
             [
              0.4444444444444444,
              "#bd3786"
             ],
             [
              0.5555555555555556,
              "#d8576b"
             ],
             [
              0.6666666666666666,
              "#ed7953"
             ],
             [
              0.7777777777777778,
              "#fb9f3a"
             ],
             [
              0.8888888888888888,
              "#fdca26"
             ],
             [
              1,
              "#f0f921"
             ]
            ],
            "type": "heatmapgl"
           }
          ],
          "histogram": [
           {
            "marker": {
             "pattern": {
              "fillmode": "overlay",
              "size": 10,
              "solidity": 0.2
             }
            },
            "type": "histogram"
           }
          ],
          "histogram2d": [
           {
            "colorbar": {
             "outlinewidth": 0,
             "ticks": ""
            },
            "colorscale": [
             [
              0,
              "#0d0887"
             ],
             [
              0.1111111111111111,
              "#46039f"
             ],
             [
              0.2222222222222222,
              "#7201a8"
             ],
             [
              0.3333333333333333,
              "#9c179e"
             ],
             [
              0.4444444444444444,
              "#bd3786"
             ],
             [
              0.5555555555555556,
              "#d8576b"
             ],
             [
              0.6666666666666666,
              "#ed7953"
             ],
             [
              0.7777777777777778,
              "#fb9f3a"
             ],
             [
              0.8888888888888888,
              "#fdca26"
             ],
             [
              1,
              "#f0f921"
             ]
            ],
            "type": "histogram2d"
           }
          ],
          "histogram2dcontour": [
           {
            "colorbar": {
             "outlinewidth": 0,
             "ticks": ""
            },
            "colorscale": [
             [
              0,
              "#0d0887"
             ],
             [
              0.1111111111111111,
              "#46039f"
             ],
             [
              0.2222222222222222,
              "#7201a8"
             ],
             [
              0.3333333333333333,
              "#9c179e"
             ],
             [
              0.4444444444444444,
              "#bd3786"
             ],
             [
              0.5555555555555556,
              "#d8576b"
             ],
             [
              0.6666666666666666,
              "#ed7953"
             ],
             [
              0.7777777777777778,
              "#fb9f3a"
             ],
             [
              0.8888888888888888,
              "#fdca26"
             ],
             [
              1,
              "#f0f921"
             ]
            ],
            "type": "histogram2dcontour"
           }
          ],
          "mesh3d": [
           {
            "colorbar": {
             "outlinewidth": 0,
             "ticks": ""
            },
            "type": "mesh3d"
           }
          ],
          "parcoords": [
           {
            "line": {
             "colorbar": {
              "outlinewidth": 0,
              "ticks": ""
             }
            },
            "type": "parcoords"
           }
          ],
          "pie": [
           {
            "automargin": true,
            "type": "pie"
           }
          ],
          "scatter": [
           {
            "fillpattern": {
             "fillmode": "overlay",
             "size": 10,
             "solidity": 0.2
            },
            "type": "scatter"
           }
          ],
          "scatter3d": [
           {
            "line": {
             "colorbar": {
              "outlinewidth": 0,
              "ticks": ""
             }
            },
            "marker": {
             "colorbar": {
              "outlinewidth": 0,
              "ticks": ""
             }
            },
            "type": "scatter3d"
           }
          ],
          "scattercarpet": [
           {
            "marker": {
             "colorbar": {
              "outlinewidth": 0,
              "ticks": ""
             }
            },
            "type": "scattercarpet"
           }
          ],
          "scattergeo": [
           {
            "marker": {
             "colorbar": {
              "outlinewidth": 0,
              "ticks": ""
             }
            },
            "type": "scattergeo"
           }
          ],
          "scattergl": [
           {
            "marker": {
             "colorbar": {
              "outlinewidth": 0,
              "ticks": ""
             }
            },
            "type": "scattergl"
           }
          ],
          "scattermapbox": [
           {
            "marker": {
             "colorbar": {
              "outlinewidth": 0,
              "ticks": ""
             }
            },
            "type": "scattermapbox"
           }
          ],
          "scatterpolar": [
           {
            "marker": {
             "colorbar": {
              "outlinewidth": 0,
              "ticks": ""
             }
            },
            "type": "scatterpolar"
           }
          ],
          "scatterpolargl": [
           {
            "marker": {
             "colorbar": {
              "outlinewidth": 0,
              "ticks": ""
             }
            },
            "type": "scatterpolargl"
           }
          ],
          "scatterternary": [
           {
            "marker": {
             "colorbar": {
              "outlinewidth": 0,
              "ticks": ""
             }
            },
            "type": "scatterternary"
           }
          ],
          "surface": [
           {
            "colorbar": {
             "outlinewidth": 0,
             "ticks": ""
            },
            "colorscale": [
             [
              0,
              "#0d0887"
             ],
             [
              0.1111111111111111,
              "#46039f"
             ],
             [
              0.2222222222222222,
              "#7201a8"
             ],
             [
              0.3333333333333333,
              "#9c179e"
             ],
             [
              0.4444444444444444,
              "#bd3786"
             ],
             [
              0.5555555555555556,
              "#d8576b"
             ],
             [
              0.6666666666666666,
              "#ed7953"
             ],
             [
              0.7777777777777778,
              "#fb9f3a"
             ],
             [
              0.8888888888888888,
              "#fdca26"
             ],
             [
              1,
              "#f0f921"
             ]
            ],
            "type": "surface"
           }
          ],
          "table": [
           {
            "cells": {
             "fill": {
              "color": "#EBF0F8"
             },
             "line": {
              "color": "white"
             }
            },
            "header": {
             "fill": {
              "color": "#C8D4E3"
             },
             "line": {
              "color": "white"
             }
            },
            "type": "table"
           }
          ]
         },
         "layout": {
          "annotationdefaults": {
           "arrowcolor": "#2a3f5f",
           "arrowhead": 0,
           "arrowwidth": 1
          },
          "autotypenumbers": "strict",
          "coloraxis": {
           "colorbar": {
            "outlinewidth": 0,
            "ticks": ""
           }
          },
          "colorscale": {
           "diverging": [
            [
             0,
             "#8e0152"
            ],
            [
             0.1,
             "#c51b7d"
            ],
            [
             0.2,
             "#de77ae"
            ],
            [
             0.3,
             "#f1b6da"
            ],
            [
             0.4,
             "#fde0ef"
            ],
            [
             0.5,
             "#f7f7f7"
            ],
            [
             0.6,
             "#e6f5d0"
            ],
            [
             0.7,
             "#b8e186"
            ],
            [
             0.8,
             "#7fbc41"
            ],
            [
             0.9,
             "#4d9221"
            ],
            [
             1,
             "#276419"
            ]
           ],
           "sequential": [
            [
             0,
             "#0d0887"
            ],
            [
             0.1111111111111111,
             "#46039f"
            ],
            [
             0.2222222222222222,
             "#7201a8"
            ],
            [
             0.3333333333333333,
             "#9c179e"
            ],
            [
             0.4444444444444444,
             "#bd3786"
            ],
            [
             0.5555555555555556,
             "#d8576b"
            ],
            [
             0.6666666666666666,
             "#ed7953"
            ],
            [
             0.7777777777777778,
             "#fb9f3a"
            ],
            [
             0.8888888888888888,
             "#fdca26"
            ],
            [
             1,
             "#f0f921"
            ]
           ],
           "sequentialminus": [
            [
             0,
             "#0d0887"
            ],
            [
             0.1111111111111111,
             "#46039f"
            ],
            [
             0.2222222222222222,
             "#7201a8"
            ],
            [
             0.3333333333333333,
             "#9c179e"
            ],
            [
             0.4444444444444444,
             "#bd3786"
            ],
            [
             0.5555555555555556,
             "#d8576b"
            ],
            [
             0.6666666666666666,
             "#ed7953"
            ],
            [
             0.7777777777777778,
             "#fb9f3a"
            ],
            [
             0.8888888888888888,
             "#fdca26"
            ],
            [
             1,
             "#f0f921"
            ]
           ]
          },
          "colorway": [
           "#636efa",
           "#EF553B",
           "#00cc96",
           "#ab63fa",
           "#FFA15A",
           "#19d3f3",
           "#FF6692",
           "#B6E880",
           "#FF97FF",
           "#FECB52"
          ],
          "font": {
           "color": "#2a3f5f"
          },
          "geo": {
           "bgcolor": "white",
           "lakecolor": "white",
           "landcolor": "#E5ECF6",
           "showlakes": true,
           "showland": true,
           "subunitcolor": "white"
          },
          "hoverlabel": {
           "align": "left"
          },
          "hovermode": "closest",
          "mapbox": {
           "style": "light"
          },
          "paper_bgcolor": "white",
          "plot_bgcolor": "#E5ECF6",
          "polar": {
           "angularaxis": {
            "gridcolor": "white",
            "linecolor": "white",
            "ticks": ""
           },
           "bgcolor": "#E5ECF6",
           "radialaxis": {
            "gridcolor": "white",
            "linecolor": "white",
            "ticks": ""
           }
          },
          "scene": {
           "xaxis": {
            "backgroundcolor": "#E5ECF6",
            "gridcolor": "white",
            "gridwidth": 2,
            "linecolor": "white",
            "showbackground": true,
            "ticks": "",
            "zerolinecolor": "white"
           },
           "yaxis": {
            "backgroundcolor": "#E5ECF6",
            "gridcolor": "white",
            "gridwidth": 2,
            "linecolor": "white",
            "showbackground": true,
            "ticks": "",
            "zerolinecolor": "white"
           },
           "zaxis": {
            "backgroundcolor": "#E5ECF6",
            "gridcolor": "white",
            "gridwidth": 2,
            "linecolor": "white",
            "showbackground": true,
            "ticks": "",
            "zerolinecolor": "white"
           }
          },
          "shapedefaults": {
           "line": {
            "color": "#2a3f5f"
           }
          },
          "ternary": {
           "aaxis": {
            "gridcolor": "white",
            "linecolor": "white",
            "ticks": ""
           },
           "baxis": {
            "gridcolor": "white",
            "linecolor": "white",
            "ticks": ""
           },
           "bgcolor": "#E5ECF6",
           "caxis": {
            "gridcolor": "white",
            "linecolor": "white",
            "ticks": ""
           }
          },
          "title": {
           "x": 0.05
          },
          "xaxis": {
           "automargin": true,
           "gridcolor": "white",
           "linecolor": "white",
           "ticks": "",
           "title": {
            "standoff": 15
           },
           "zerolinecolor": "white",
           "zerolinewidth": 2
          },
          "yaxis": {
           "automargin": true,
           "gridcolor": "white",
           "linecolor": "white",
           "ticks": "",
           "title": {
            "standoff": 15
           },
           "zerolinecolor": "white",
           "zerolinewidth": 2
          }
         }
        },
        "title": {
         "font": {
          "color": "#4D5663"
         },
         "text": "Heatmap of Products"
        },
        "xaxis": {
         "gridcolor": "#E1E5ED",
         "showgrid": true,
         "tickfont": {
          "color": "#4D5663"
         },
         "title": {
          "font": {
           "color": "#4D5663"
          },
          "text": "Product"
         },
         "zerolinecolor": "#E1E5ED"
        },
        "yaxis": {
         "gridcolor": "#E1E5ED",
         "showgrid": true,
         "tickfont": {
          "color": "#4D5663"
         },
         "title": {
          "font": {
           "color": "#4D5663"
          },
          "text": "Product"
         },
         "zerolinecolor": "#E1E5ED"
        }
       }
      },
      "text/html": [
       "<div>                            <div id=\"20558523-9d33-4d3f-a1da-a5b87e6c7c98\" class=\"plotly-graph-div\" style=\"height:525px; width:100%;\"></div>            <script type=\"text/javascript\">                require([\"plotly\"], function(Plotly) {                    window.PLOTLYENV=window.PLOTLYENV || {};\n",
       "                    window.PLOTLYENV.BASE_URL='https://plot.ly';                                    if (document.getElementById(\"20558523-9d33-4d3f-a1da-a5b87e6c7c98\")) {                    Plotly.newPlot(                        \"20558523-9d33-4d3f-a1da-a5b87e6c7c98\",                        [{\"colorscale\":[[0.0,\"rgb(247,251,255)\"],[0.125,\"rgb(222,235,247)\"],[0.25,\"rgb(198,219,239)\"],[0.375,\"rgb(158,202,225)\"],[0.5,\"rgb(107,174,214)\"],[0.625,\"rgb(66,146,198)\"],[0.75,\"rgb(33,113,181)\"],[0.875,\"rgb(8,81,156)\"],[1.0,\"rgb(8,48,107)\"]],\"x\":[\"20in Monitor\",\"27in 4K Gaming Monitor\",\"27in FHD Monitor\",\"34in Ultrawide Monitor\",\"AA Batteries (4-pack)\",\"AAA Batteries (4-pack)\",\"Apple Airpods Headphones\",\"Bose SoundSport Headphones\",\"Flatscreen TV\",\"Google Phone\",\"LG Dryer\",\"LG Washing Machine\",\"Lightning Charging Cable\",\"Macbook Pro Laptop\",\"ThinkPad Laptop\",\"USB-C Charging Cable\",\"Vareebadd Phone\",\"Wired Headphones\",\"iPhone\"],\"y\":[\"20in Monitor\",\"27in 4K Gaming Monitor\",\"27in FHD Monitor\",\"34in Ultrawide Monitor\",\"AA Batteries (4-pack)\",\"AAA Batteries (4-pack)\",\"Apple Airpods Headphones\",\"Bose SoundSport Headphones\",\"Flatscreen TV\",\"Google Phone\",\"LG Dryer\",\"LG Washing Machine\",\"Lightning Charging Cable\",\"Macbook Pro Laptop\",\"ThinkPad Laptop\",\"USB-C Charging Cable\",\"Vareebadd Phone\",\"Wired Headphones\",\"iPhone\"],\"z\":[[165,2,5,2,16,11,13,15,2,4,0,2,26,6,2,25,0,19,3],[2,261,8,6,26,30,22,19,5,6,2,1,34,13,5,23,3,29,9],[5,8,312,10,26,43,24,26,6,8,3,1,36,9,6,43,2,22,2],[2,6,10,260,32,25,14,17,8,5,0,1,33,7,4,26,4,28,13],[16,26,26,32,838,87,70,55,21,25,6,1,106,17,17,75,12,83,32],[11,30,43,25,87,911,81,57,21,22,2,4,80,18,27,95,6,86,31],[13,22,24,14,70,81,1022,50,13,21,3,1,116,19,16,63,12,100,373],[15,19,26,17,55,57,50,874,13,228,0,2,72,15,13,102,82,74,12],[2,5,6,8,21,21,13,13,190,4,1,0,22,5,6,17,3,11,10],[4,6,8,5,25,22,21,228,4,1645,1,1,28,7,6,999,5,423,9],[0,2,3,0,6,2,3,0,1,1,25,0,3,0,1,1,1,1,0],[2,1,1,1,1,4,1,2,0,1,0,28,6,2,0,0,0,4,2],[26,34,36,33,106,80,116,72,22,28,3,6,1935,21,20,100,4,129,1015],[6,13,9,7,17,18,19,15,5,7,0,2,21,202,5,21,0,20,6],[2,5,6,4,17,27,16,13,6,6,1,0,20,5,180,20,3,14,7],[25,23,43,26,75,95,63,102,17,999,1,0,100,21,20,2207,368,205,29],[0,3,2,4,12,6,12,82,3,5,1,0,4,0,3,368,601,149,7],[19,29,22,28,83,86,100,74,11,423,1,4,129,20,14,205,149,1744,462],[3,9,2,13,32,31,373,12,10,9,0,2,1015,6,7,29,7,462,1871]],\"zmax\":2207,\"zmin\":0,\"type\":\"heatmap\"}],                        {\"legend\":{\"bgcolor\":\"#F5F6F9\",\"font\":{\"color\":\"#4D5663\"}},\"paper_bgcolor\":\"#F5F6F9\",\"plot_bgcolor\":\"#F5F6F9\",\"template\":{\"data\":{\"barpolar\":[{\"marker\":{\"line\":{\"color\":\"#E5ECF6\",\"width\":0.5},\"pattern\":{\"fillmode\":\"overlay\",\"size\":10,\"solidity\":0.2}},\"type\":\"barpolar\"}],\"bar\":[{\"error_x\":{\"color\":\"#2a3f5f\"},\"error_y\":{\"color\":\"#2a3f5f\"},\"marker\":{\"line\":{\"color\":\"#E5ECF6\",\"width\":0.5},\"pattern\":{\"fillmode\":\"overlay\",\"size\":10,\"solidity\":0.2}},\"type\":\"bar\"}],\"carpet\":[{\"aaxis\":{\"endlinecolor\":\"#2a3f5f\",\"gridcolor\":\"white\",\"linecolor\":\"white\",\"minorgridcolor\":\"white\",\"startlinecolor\":\"#2a3f5f\"},\"baxis\":{\"endlinecolor\":\"#2a3f5f\",\"gridcolor\":\"white\",\"linecolor\":\"white\",\"minorgridcolor\":\"white\",\"startlinecolor\":\"#2a3f5f\"},\"type\":\"carpet\"}],\"choropleth\":[{\"colorbar\":{\"outlinewidth\":0,\"ticks\":\"\"},\"type\":\"choropleth\"}],\"contourcarpet\":[{\"colorbar\":{\"outlinewidth\":0,\"ticks\":\"\"},\"type\":\"contourcarpet\"}],\"contour\":[{\"colorbar\":{\"outlinewidth\":0,\"ticks\":\"\"},\"colorscale\":[[0.0,\"#0d0887\"],[0.1111111111111111,\"#46039f\"],[0.2222222222222222,\"#7201a8\"],[0.3333333333333333,\"#9c179e\"],[0.4444444444444444,\"#bd3786\"],[0.5555555555555556,\"#d8576b\"],[0.6666666666666666,\"#ed7953\"],[0.7777777777777778,\"#fb9f3a\"],[0.8888888888888888,\"#fdca26\"],[1.0,\"#f0f921\"]],\"type\":\"contour\"}],\"heatmapgl\":[{\"colorbar\":{\"outlinewidth\":0,\"ticks\":\"\"},\"colorscale\":[[0.0,\"#0d0887\"],[0.1111111111111111,\"#46039f\"],[0.2222222222222222,\"#7201a8\"],[0.3333333333333333,\"#9c179e\"],[0.4444444444444444,\"#bd3786\"],[0.5555555555555556,\"#d8576b\"],[0.6666666666666666,\"#ed7953\"],[0.7777777777777778,\"#fb9f3a\"],[0.8888888888888888,\"#fdca26\"],[1.0,\"#f0f921\"]],\"type\":\"heatmapgl\"}],\"heatmap\":[{\"colorbar\":{\"outlinewidth\":0,\"ticks\":\"\"},\"colorscale\":[[0.0,\"#0d0887\"],[0.1111111111111111,\"#46039f\"],[0.2222222222222222,\"#7201a8\"],[0.3333333333333333,\"#9c179e\"],[0.4444444444444444,\"#bd3786\"],[0.5555555555555556,\"#d8576b\"],[0.6666666666666666,\"#ed7953\"],[0.7777777777777778,\"#fb9f3a\"],[0.8888888888888888,\"#fdca26\"],[1.0,\"#f0f921\"]],\"type\":\"heatmap\"}],\"histogram2dcontour\":[{\"colorbar\":{\"outlinewidth\":0,\"ticks\":\"\"},\"colorscale\":[[0.0,\"#0d0887\"],[0.1111111111111111,\"#46039f\"],[0.2222222222222222,\"#7201a8\"],[0.3333333333333333,\"#9c179e\"],[0.4444444444444444,\"#bd3786\"],[0.5555555555555556,\"#d8576b\"],[0.6666666666666666,\"#ed7953\"],[0.7777777777777778,\"#fb9f3a\"],[0.8888888888888888,\"#fdca26\"],[1.0,\"#f0f921\"]],\"type\":\"histogram2dcontour\"}],\"histogram2d\":[{\"colorbar\":{\"outlinewidth\":0,\"ticks\":\"\"},\"colorscale\":[[0.0,\"#0d0887\"],[0.1111111111111111,\"#46039f\"],[0.2222222222222222,\"#7201a8\"],[0.3333333333333333,\"#9c179e\"],[0.4444444444444444,\"#bd3786\"],[0.5555555555555556,\"#d8576b\"],[0.6666666666666666,\"#ed7953\"],[0.7777777777777778,\"#fb9f3a\"],[0.8888888888888888,\"#fdca26\"],[1.0,\"#f0f921\"]],\"type\":\"histogram2d\"}],\"histogram\":[{\"marker\":{\"pattern\":{\"fillmode\":\"overlay\",\"size\":10,\"solidity\":0.2}},\"type\":\"histogram\"}],\"mesh3d\":[{\"colorbar\":{\"outlinewidth\":0,\"ticks\":\"\"},\"type\":\"mesh3d\"}],\"parcoords\":[{\"line\":{\"colorbar\":{\"outlinewidth\":0,\"ticks\":\"\"}},\"type\":\"parcoords\"}],\"pie\":[{\"automargin\":true,\"type\":\"pie\"}],\"scatter3d\":[{\"line\":{\"colorbar\":{\"outlinewidth\":0,\"ticks\":\"\"}},\"marker\":{\"colorbar\":{\"outlinewidth\":0,\"ticks\":\"\"}},\"type\":\"scatter3d\"}],\"scattercarpet\":[{\"marker\":{\"colorbar\":{\"outlinewidth\":0,\"ticks\":\"\"}},\"type\":\"scattercarpet\"}],\"scattergeo\":[{\"marker\":{\"colorbar\":{\"outlinewidth\":0,\"ticks\":\"\"}},\"type\":\"scattergeo\"}],\"scattergl\":[{\"marker\":{\"colorbar\":{\"outlinewidth\":0,\"ticks\":\"\"}},\"type\":\"scattergl\"}],\"scattermapbox\":[{\"marker\":{\"colorbar\":{\"outlinewidth\":0,\"ticks\":\"\"}},\"type\":\"scattermapbox\"}],\"scatterpolargl\":[{\"marker\":{\"colorbar\":{\"outlinewidth\":0,\"ticks\":\"\"}},\"type\":\"scatterpolargl\"}],\"scatterpolar\":[{\"marker\":{\"colorbar\":{\"outlinewidth\":0,\"ticks\":\"\"}},\"type\":\"scatterpolar\"}],\"scatter\":[{\"fillpattern\":{\"fillmode\":\"overlay\",\"size\":10,\"solidity\":0.2},\"type\":\"scatter\"}],\"scatterternary\":[{\"marker\":{\"colorbar\":{\"outlinewidth\":0,\"ticks\":\"\"}},\"type\":\"scatterternary\"}],\"surface\":[{\"colorbar\":{\"outlinewidth\":0,\"ticks\":\"\"},\"colorscale\":[[0.0,\"#0d0887\"],[0.1111111111111111,\"#46039f\"],[0.2222222222222222,\"#7201a8\"],[0.3333333333333333,\"#9c179e\"],[0.4444444444444444,\"#bd3786\"],[0.5555555555555556,\"#d8576b\"],[0.6666666666666666,\"#ed7953\"],[0.7777777777777778,\"#fb9f3a\"],[0.8888888888888888,\"#fdca26\"],[1.0,\"#f0f921\"]],\"type\":\"surface\"}],\"table\":[{\"cells\":{\"fill\":{\"color\":\"#EBF0F8\"},\"line\":{\"color\":\"white\"}},\"header\":{\"fill\":{\"color\":\"#C8D4E3\"},\"line\":{\"color\":\"white\"}},\"type\":\"table\"}]},\"layout\":{\"annotationdefaults\":{\"arrowcolor\":\"#2a3f5f\",\"arrowhead\":0,\"arrowwidth\":1},\"autotypenumbers\":\"strict\",\"coloraxis\":{\"colorbar\":{\"outlinewidth\":0,\"ticks\":\"\"}},\"colorscale\":{\"diverging\":[[0,\"#8e0152\"],[0.1,\"#c51b7d\"],[0.2,\"#de77ae\"],[0.3,\"#f1b6da\"],[0.4,\"#fde0ef\"],[0.5,\"#f7f7f7\"],[0.6,\"#e6f5d0\"],[0.7,\"#b8e186\"],[0.8,\"#7fbc41\"],[0.9,\"#4d9221\"],[1,\"#276419\"]],\"sequential\":[[0.0,\"#0d0887\"],[0.1111111111111111,\"#46039f\"],[0.2222222222222222,\"#7201a8\"],[0.3333333333333333,\"#9c179e\"],[0.4444444444444444,\"#bd3786\"],[0.5555555555555556,\"#d8576b\"],[0.6666666666666666,\"#ed7953\"],[0.7777777777777778,\"#fb9f3a\"],[0.8888888888888888,\"#fdca26\"],[1.0,\"#f0f921\"]],\"sequentialminus\":[[0.0,\"#0d0887\"],[0.1111111111111111,\"#46039f\"],[0.2222222222222222,\"#7201a8\"],[0.3333333333333333,\"#9c179e\"],[0.4444444444444444,\"#bd3786\"],[0.5555555555555556,\"#d8576b\"],[0.6666666666666666,\"#ed7953\"],[0.7777777777777778,\"#fb9f3a\"],[0.8888888888888888,\"#fdca26\"],[1.0,\"#f0f921\"]]},\"colorway\":[\"#636efa\",\"#EF553B\",\"#00cc96\",\"#ab63fa\",\"#FFA15A\",\"#19d3f3\",\"#FF6692\",\"#B6E880\",\"#FF97FF\",\"#FECB52\"],\"font\":{\"color\":\"#2a3f5f\"},\"geo\":{\"bgcolor\":\"white\",\"lakecolor\":\"white\",\"landcolor\":\"#E5ECF6\",\"showlakes\":true,\"showland\":true,\"subunitcolor\":\"white\"},\"hoverlabel\":{\"align\":\"left\"},\"hovermode\":\"closest\",\"mapbox\":{\"style\":\"light\"},\"paper_bgcolor\":\"white\",\"plot_bgcolor\":\"#E5ECF6\",\"polar\":{\"angularaxis\":{\"gridcolor\":\"white\",\"linecolor\":\"white\",\"ticks\":\"\"},\"bgcolor\":\"#E5ECF6\",\"radialaxis\":{\"gridcolor\":\"white\",\"linecolor\":\"white\",\"ticks\":\"\"}},\"scene\":{\"xaxis\":{\"backgroundcolor\":\"#E5ECF6\",\"gridcolor\":\"white\",\"gridwidth\":2,\"linecolor\":\"white\",\"showbackground\":true,\"ticks\":\"\",\"zerolinecolor\":\"white\"},\"yaxis\":{\"backgroundcolor\":\"#E5ECF6\",\"gridcolor\":\"white\",\"gridwidth\":2,\"linecolor\":\"white\",\"showbackground\":true,\"ticks\":\"\",\"zerolinecolor\":\"white\"},\"zaxis\":{\"backgroundcolor\":\"#E5ECF6\",\"gridcolor\":\"white\",\"gridwidth\":2,\"linecolor\":\"white\",\"showbackground\":true,\"ticks\":\"\",\"zerolinecolor\":\"white\"}},\"shapedefaults\":{\"line\":{\"color\":\"#2a3f5f\"}},\"ternary\":{\"aaxis\":{\"gridcolor\":\"white\",\"linecolor\":\"white\",\"ticks\":\"\"},\"baxis\":{\"gridcolor\":\"white\",\"linecolor\":\"white\",\"ticks\":\"\"},\"bgcolor\":\"#E5ECF6\",\"caxis\":{\"gridcolor\":\"white\",\"linecolor\":\"white\",\"ticks\":\"\"}},\"title\":{\"x\":0.05},\"xaxis\":{\"automargin\":true,\"gridcolor\":\"white\",\"linecolor\":\"white\",\"ticks\":\"\",\"title\":{\"standoff\":15},\"zerolinecolor\":\"white\",\"zerolinewidth\":2},\"yaxis\":{\"automargin\":true,\"gridcolor\":\"white\",\"linecolor\":\"white\",\"ticks\":\"\",\"title\":{\"standoff\":15},\"zerolinecolor\":\"white\",\"zerolinewidth\":2}}},\"title\":{\"font\":{\"color\":\"#4D5663\"},\"text\":\"Heatmap of Products\"},\"xaxis\":{\"gridcolor\":\"#E1E5ED\",\"showgrid\":true,\"tickfont\":{\"color\":\"#4D5663\"},\"title\":{\"font\":{\"color\":\"#4D5663\"},\"text\":\"Product\"},\"zerolinecolor\":\"#E1E5ED\"},\"yaxis\":{\"gridcolor\":\"#E1E5ED\",\"showgrid\":true,\"tickfont\":{\"color\":\"#4D5663\"},\"title\":{\"font\":{\"color\":\"#4D5663\"},\"text\":\"Product\"},\"zerolinecolor\":\"#E1E5ED\"}},                        {\"showLink\": true, \"linkText\": \"Export to plot.ly\", \"plotlyServerURL\": \"https://plot.ly\", \"responsive\": true}                    ).then(function(){\n",
       "                            \n",
       "var gd = document.getElementById('20558523-9d33-4d3f-a1da-a5b87e6c7c98');\n",
       "var x = new MutationObserver(function (mutations, observer) {{\n",
       "        var display = window.getComputedStyle(gd).display;\n",
       "        if (!display || display === 'none') {{\n",
       "            console.log([gd, 'removed!']);\n",
       "            Plotly.purge(gd);\n",
       "            observer.disconnect();\n",
       "        }}\n",
       "}});\n",
       "\n",
       "// Listen for the removal of the full notebook cells\n",
       "var notebookContainer = gd.closest('#notebook-container');\n",
       "if (notebookContainer) {{\n",
       "    x.observe(notebookContainer, {childList: true});\n",
       "}}\n",
       "\n",
       "// Listen for the clearing of the current output cell\n",
       "var outputEl = gd.closest('.output');\n",
       "if (outputEl) {{\n",
       "    x.observe(outputEl, {childList: true});\n",
       "}}\n",
       "\n",
       "                        })                };                });            </script>        </div>"
      ]
     },
     "metadata": {},
     "output_type": "display_data"
    }
   ],
   "source": [
    "prod_matrix.iplot(kind='heatmap',colorscale=\"Blues\",size=(20,10),title='Heatmap of Products',xTitle='Product',yTitle='Product')"
   ]
  }
 ],
 "metadata": {
  "kernelspec": {
   "display_name": "Python 3 (ipykernel)",
   "language": "python",
   "name": "python3"
  },
  "language_info": {
   "codemirror_mode": {
    "name": "ipython",
    "version": 3
   },
   "file_extension": ".py",
   "mimetype": "text/x-python",
   "name": "python",
   "nbconvert_exporter": "python",
   "pygments_lexer": "ipython3",
   "version": "3.9.16"
  }
 },
 "nbformat": 4,
 "nbformat_minor": 5
}
